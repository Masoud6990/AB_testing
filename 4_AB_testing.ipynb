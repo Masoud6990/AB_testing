{
  "metadata": {
    "kernelspec": {
      "name": "python",
      "display_name": "Python (Pyodide)",
      "language": "python"
    },
    "language_info": {
      "codemirror_mode": {
        "name": "python",
        "version": 3
      },
      "file_extension": ".py",
      "mimetype": "text/x-python",
      "name": "python",
      "nbconvert_exporter": "python",
      "pygments_lexer": "ipython3",
      "version": "3.8"
    },
    "grader_version": "2"
  },
  "nbformat_minor": 5,
  "nbformat": 4,
  "cells": [
    {
      "id": "a5759717",
      "cell_type": "code",
      "source": "import math\nimport numpy as np\nimport pandas as pd\nfrom scipy import stats",
      "metadata": {
        "tags": [
          "graded"
        ]
      },
      "outputs": [],
      "execution_count": 1
    },
    {
      "id": "9ebfb03e",
      "cell_type": "code",
      "source": "# Load the data from the test\ndata = pd.read_csv(\"background_color_experiment.csv\")\n# Print the first 10 rows\ndata.head(10)",
      "metadata": {
        "tags": []
      },
      "outputs": [
        {
          "data": {
            "text/html": [
              "<div>\n",
              "<style scoped>\n",
              "    .dataframe tbody tr th:only-of-type {\n",
              "        vertical-align: middle;\n",
              "    }\n",
              "\n",
              "    .dataframe tbody tr th {\n",
              "        vertical-align: top;\n",
              "    }\n",
              "\n",
              "    .dataframe thead th {\n",
              "        text-align: right;\n",
              "    }\n",
              "</style>\n",
              "<table border=\"1\" class=\"dataframe\">\n",
              "  <thead>\n",
              "    <tr style=\"text-align: right;\">\n",
              "      <th></th>\n",
              "      <th>user_id</th>\n",
              "      <th>user_type</th>\n",
              "      <th>session_duration</th>\n",
              "    </tr>\n",
              "  </thead>\n",
              "  <tbody>\n",
              "    <tr>\n",
              "      <th>0</th>\n",
              "      <td>BM3C0BJ7CS</td>\n",
              "      <td>variation</td>\n",
              "      <td>15.528769</td>\n",
              "    </tr>\n",
              "    <tr>\n",
              "      <th>1</th>\n",
              "      <td>MJWN6XNH6L</td>\n",
              "      <td>variation</td>\n",
              "      <td>32.287590</td>\n",
              "    </tr>\n",
              "    <tr>\n",
              "      <th>2</th>\n",
              "      <td>46ZPHHABLS</td>\n",
              "      <td>variation</td>\n",
              "      <td>43.718217</td>\n",
              "    </tr>\n",
              "    <tr>\n",
              "      <th>3</th>\n",
              "      <td>OHA298DHUG</td>\n",
              "      <td>variation</td>\n",
              "      <td>49.519702</td>\n",
              "    </tr>\n",
              "    <tr>\n",
              "      <th>4</th>\n",
              "      <td>AKJ77X6F4A</td>\n",
              "      <td>control</td>\n",
              "      <td>61.709028</td>\n",
              "    </tr>\n",
              "    <tr>\n",
              "      <th>5</th>\n",
              "      <td>BFNWMGU6DX</td>\n",
              "      <td>variation</td>\n",
              "      <td>71.779283</td>\n",
              "    </tr>\n",
              "    <tr>\n",
              "      <th>6</th>\n",
              "      <td>UFO2V8ZKFB</td>\n",
              "      <td>variation</td>\n",
              "      <td>23.291835</td>\n",
              "    </tr>\n",
              "    <tr>\n",
              "      <th>7</th>\n",
              "      <td>4CEIM3VRS9</td>\n",
              "      <td>control</td>\n",
              "      <td>25.219461</td>\n",
              "    </tr>\n",
              "    <tr>\n",
              "      <th>8</th>\n",
              "      <td>90AGF68FF8</td>\n",
              "      <td>control</td>\n",
              "      <td>26.240482</td>\n",
              "    </tr>\n",
              "    <tr>\n",
              "      <th>9</th>\n",
              "      <td>R3DQFO6068</td>\n",
              "      <td>variation</td>\n",
              "      <td>20.780244</td>\n",
              "    </tr>\n",
              "  </tbody>\n",
              "</table>\n",
              "</div>"
            ],
            "text/plain": [
              "      user_id  user_type  session_duration\n",
              "0  BM3C0BJ7CS  variation         15.528769\n",
              "1  MJWN6XNH6L  variation         32.287590\n",
              "2  46ZPHHABLS  variation         43.718217\n",
              "3  OHA298DHUG  variation         49.519702\n",
              "4  AKJ77X6F4A    control         61.709028\n",
              "5  BFNWMGU6DX  variation         71.779283\n",
              "6  UFO2V8ZKFB  variation         23.291835\n",
              "7  4CEIM3VRS9    control         25.219461\n",
              "8  90AGF68FF8    control         26.240482\n",
              "9  R3DQFO6068  variation         20.780244"
            ]
          },
          "execution_count": 4,
          "metadata": {},
          "output_type": "execute_result"
        }
      ],
      "execution_count": 4
    },
    {
      "id": "e8f146e1",
      "cell_type": "code",
      "source": "print(f\"The dataset size is: {len(data)}\")",
      "metadata": {},
      "outputs": [
        {
          "name": "stdout",
          "output_type": "stream",
          "text": [
            "The dataset size is: 4186\n"
          ]
        }
      ],
      "execution_count": 5
    },
    {
      "id": "20e6f0fe",
      "cell_type": "code",
      "source": "# X_c stores the session tome for the control group and X_v, for the variation group. \nX_c = control_sd_data.to_numpy()\nX_v = variation_sd_data.to_numpy()",
      "metadata": {
        "tags": []
      },
      "outputs": [],
      "execution_count": 7
    },
    {
      "id": "1e72eca9",
      "cell_type": "code",
      "source": "def get_stats(X):\n    \"\"\"\n    Calculate basic statistics of a given data set.\n    \"\"\"   \n    n = len(X)\n    x = X.mean()\n    s = X.std(ddof=1)\n    return (n,x,s)",
      "metadata": {
        "tags": [
          "graded"
        ]
      },
      "outputs": [],
      "execution_count": 9
    },
    {
      "id": "a38aa921",
      "cell_type": "code",
      "source": "n_c, x_c, s_c = get_stats(X_c)\nn_v, x_v, s_v = get_stats(X_v)",
      "metadata": {},
      "outputs": [],
      "execution_count": 11
    },
    {
      "id": "0689d522",
      "cell_type": "code",
      "source": "def degrees_of_freedom(n_v, s_v, n_c, s_c):\n    \"\"\" Computes the degrees of freedom for two samples.\n    \"\"\"    \n    s_v_n_v = np.square(s_v)/n_v\n    s_c_n_c = np.square(s_c)/n_c\n    numerator = np.square(s_v_n_v+s_c_n_c)\n    denominator = np.square(s_c_n_c)/(n_c-1)+np.square(s_v_n_v)/(n_v-1)\n    dof = numerator/denominator\n        \n    return dof",
      "metadata": {
        "tags": [
          "graded"
        ]
      },
      "outputs": [],
      "execution_count": 14
    },
    {
      "id": "edb611dd",
      "cell_type": "code",
      "source": "d = degrees_of_freedom(n_v, s_v, n_c, s_c)\nprint(f\"The degrees of freedom for the t-student in this scenario is: {d:.2f}\")",
      "metadata": {},
      "outputs": [
        {
          "name": "stdout",
          "output_type": "stream",
          "text": [
            "The degrees of freedom for the t-student in this scenario is: 4182.97\n"
          ]
        }
      ],
      "execution_count": 16
    },
    {
      "id": "49345865",
      "cell_type": "code",
      "source": "def t_value(n_v, x_v, s_v, n_c, x_c, s_c):\n    \n    s_v_n_v = np.square(s_v)/n_v\n    s_c_n_c = np.square(s_c)/n_c\n    numerator = x_v-x_c\n    denominator = np.sqrt(s_v_n_v+s_c_n_c)\n    t = numerator/denominator\n\n    return t",
      "metadata": {
        "tags": [
          "graded"
        ]
      },
      "outputs": [],
      "execution_count": 17
    },
    {
      "id": "c264a82a",
      "cell_type": "code",
      "source": "t = t_value(n_v, x_v, s_v, n_c, x_c, s_c)\nprint(f\"The t-value for this experiment is: {t:.2f}\")",
      "metadata": {},
      "outputs": [
        {
          "name": "stdout",
          "output_type": "stream",
          "text": [
            "The t-value for this experiment is: 1.64\n"
          ]
        }
      ],
      "execution_count": 18
    },
    {
      "id": "e2199728",
      "cell_type": "code",
      "source": "t_10 = stats.t(df = 10)\ncdf = t_10.cdf(1.21)\nprint(f\"The CDF for the t-student distribution with 10 degrees of freedom and t-value = 1.21, or equivalently P(t_10 < 1.21) is equal to: {cdf:.2f}\")",
      "metadata": {},
      "outputs": [
        {
          "name": "stdout",
          "output_type": "stream",
          "text": [
            "The CDF for the t-student distribution with 10 degrees of freedom and t-value = 1.21, or equivalently P(t_10 < 1.21) is equal to: 0.87\n"
          ]
        }
      ],
      "execution_count": 19
    },
    {
      "id": "170e5d25",
      "cell_type": "code",
      "source": "def p_value(d, t_value):\n    t_d = stats.t(df=d)\n    p = 1-t_d.cdf(t_value)\n    return p",
      "metadata": {
        "tags": [
          "graded"
        ]
      },
      "outputs": [],
      "execution_count": 25
    },
    {
      "id": "5e8409a6",
      "cell_type": "code",
      "source": "def make_decision(X_v, X_c, alpha = 0.05):\n\n    n_v, x_v, s_v = get_stats(X_v)\n\n    n_c, x_c, s_c = get_stats(X_c)\n\n    d = degrees_of_freedom(n_v, s_v, n_c, s_c)\n    \n    t = t_value(n_v, x_v, s_v, n_c, x_c, s_c)\n\n    p = p_value(d, t)\n\n    if p<alpha:\n        return 'Reject H_0'\n    else:\n        return 'Do not reject H_0'",
      "metadata": {
        "tags": [
          "graded"
        ]
      },
      "outputs": [],
      "execution_count": 32
    },
    {
      "id": "801e40b2-1e5b-40d5-8c13-87c33f203404",
      "cell_type": "code",
      "source": "alphas = [0.06, 0.05, 0.04, 0.01]\nfor alpha in alphas:\n    print(f\"For an alpha of {alpha} the decision is to: {make_decision(X_v, X_c, alpha = alpha)}\")",
      "metadata": {
        "trusted": true
      },
      "outputs": [],
      "execution_count": null
    }
  ]
}